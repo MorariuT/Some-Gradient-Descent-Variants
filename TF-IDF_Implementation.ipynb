{
 "cells": [
  {
   "cell_type": "code",
   "id": "initial_id",
   "metadata": {
    "collapsed": true,
    "ExecuteTime": {
     "end_time": "2024-11-18T10:06:17.197970Z",
     "start_time": "2024-11-18T10:06:17.190793Z"
    }
   },
   "source": "import numpy as np",
   "outputs": [],
   "execution_count": 22
  },
  {
   "metadata": {
    "ExecuteTime": {
     "end_time": "2024-11-18T10:06:17.248888Z",
     "start_time": "2024-11-18T10:06:17.237042Z"
    }
   },
   "cell_type": "code",
   "source": [
    "documents = [\n",
    "    \"The cat sat on the mat under the dim light of a flickering lamp. It gazed through the frosted windowpane, \"\n",
    "    \"watching the snow gently fall, blanketing the ground in white. Thoughts of a warm meal filled its mind as it \"\n",
    "    \"stretched lazily, curling into a ball. The night was quiet except for the occasional rustling of leaves as the \"\n",
    "    \"cold wind blew. Somewhere in the distance, the soft sound of a car engine hummed through the stillness.\",\n",
    "\n",
    "    \"Artificial intelligence is transforming the way we live and work. From self-driving cars navigating busy streets \"\n",
    "    \"to algorithms diagnosing medical conditions with precision, its impact is everywhere. Businesses are adopting AI \"\n",
    "    \"to streamline operations and gain insights from massive datasets. However, this progress raises questions about \"\n",
    "    \"ethics, privacy, and the future of work as machines take on roles traditionally held by humans.\",\n",
    "\n",
    "    \"The quick brown fox darted through the dense forest, its sleek body a blur of motion. It leaped gracefully over \"\n",
    "    \"fallen logs, evading predators and obstacles alike. The moonlight filtering through the canopy cast a silver glow \"\n",
    "    \"on its fur as it raced towards its den. Deep in the woods, the fox's keen senses guided it to safety, where it \"\n",
    "    \"could rest and prepare for another day of survival in the ever-changing wilderness.\",\n",
    "\n",
    "    \"Space exploration represents humanity's quest for knowledge and a desire to push boundaries. From the first steps \"\n",
    "    \"on the moon to the rover traversing Mars, each achievement has been a testament to ingenuity and collaboration. \"\n",
    "    \"Astronomers study distant galaxies while engineers develop spacecraft capable of enduring extreme conditions. The \"\n",
    "    \"stars remind us of our smallness, yet they inspire boundless curiosity and hope for the future.\",\n",
    "\n",
    "    \"Python is a versatile programming language that has become a favorite among developers. Known for its simplicity \"\n",
    "    \"and readability, Python enables beginners to pick it up quickly while providing advanced tools for experts. Its \"\n",
    "    \"wide range of libraries supports applications in web development, data analysis, machine learning, and more. As \"\n",
    "    \"technology evolves, Python's role in innovation remains central to the software industry.\",\n",
    "\n",
    "    \"The rain in Spain fell softly, nurturing the dry soil of the countryside. Farmers welcomed the water as their \"\n",
    "    \"fields absorbed it greedily. The air smelled of earth and growth, signaling a promising harvest ahead. Villagers \"\n",
    "    \"watched from their windows, grateful for the blessing of rain after weeks of drought. The rhythmic sound of \"\n",
    "    \"raindrops against rooftops created a calming melody that echoed through the quiet town.\",\n",
    "\n",
    "    \"Electric cars are transforming the automotive industry, offering cleaner alternatives to traditional vehicles. \"\n",
    "    \"These cars run on batteries, reducing greenhouse gas emissions and reliance on fossil fuels. Governments around \"\n",
    "    \"the world are incentivizing electric vehicle adoption with subsidies and charging infrastructure. As technology \"\n",
    "    \"improves, electric cars are becoming more affordable and efficient, paving the way for a sustainable future.\",\n",
    "\n",
    "    \"A healthy lifestyle combines balanced nutrition and regular physical activity. Eating whole foods rich in vitamins \"\n",
    "    \"and minerals supports overall health, while exercise strengthens muscles and boosts cardiovascular function. \"\n",
    "    \"Staying hydrated and getting enough sleep are equally important. Together, these habits create a foundation for \"\n",
    "    \"long-term well-being, enabling individuals to enjoy a fulfilling and active life.\",\n",
    "\n",
    "    \"Climate change is one of the greatest challenges facing humanity. Rising temperatures, melting ice caps, and \"\n",
    "    \"extreme weather events threaten ecosystems and human communities alike. Scientists advocate for reducing carbon \"\n",
    "    \"emissions, transitioning to renewable energy sources, and protecting natural habitats. The fight against climate \"\n",
    "    \"change requires collective effort, innovation, and commitment to preserving the planet for future generations.\",\n",
    "\n",
    "    \"Reading books is a gateway to endless worlds and knowledge. Fiction transports readers to imaginative realms, \"\n",
    "    \"while non-fiction provides insights into science, history, and more. Reading fosters empathy, enhances creativity, \"\n",
    "    \"and strengthens cognitive skills. In a digital age, books remain a timeless source of joy and learning, offering \"\n",
    "    \"moments of escape and reflection. For many, a good book is a constant companion through life's journey.\"\n",
    "]\n",
    "\n",
    "\n",
    "## Generated By ChatGPT\n"
   ],
   "id": "6d721a256b415d17",
   "outputs": [],
   "execution_count": 23
  },
  {
   "metadata": {
    "ExecuteTime": {
     "end_time": "2024-11-18T10:06:17.271838Z",
     "start_time": "2024-11-18T10:06:17.262915Z"
    }
   },
   "cell_type": "code",
   "source": [
    "def tfidf(word, document_idx):\n",
    "    \n",
    "    word = word.lower()\n",
    "    \n",
    "    for d in documents:\n",
    "        d = d.lower()\n",
    "    \n",
    "    val = 0;\n",
    "    \n",
    "    tf = []\n",
    "    \n",
    "    for d in documents:\n",
    "        words = d.split(' ')\n",
    "        \n",
    "        cnt = 0\n",
    "        \n",
    "        for w in words:\n",
    "            if(word in w):\n",
    "                cnt += 1\n",
    "        \n",
    "        tf.append((cnt / len(words)))\n",
    "        \n",
    "    cnt_doc_contain = 0\n",
    "    \n",
    "    for d in documents:\n",
    "        if(word in d):\n",
    "            cnt_doc_contain += 1\n",
    "    \n",
    "    idf = np.log10(len(documents) / (cnt_doc_contain + 1))\n",
    "    \n",
    "    return tf[document_idx] * idf"
   ],
   "id": "c04bffad80808d51",
   "outputs": [],
   "execution_count": 24
  },
  {
   "metadata": {
    "ExecuteTime": {
     "end_time": "2024-11-18T10:13:35.501379Z",
     "start_time": "2024-11-18T10:13:35.495528Z"
    }
   },
   "cell_type": "code",
   "source": "print(tfidf(\"moments\", 0))",
   "id": "dff27d2ecc965c6e",
   "outputs": [
    {
     "name": "stdout",
     "output_type": "stream",
     "text": [
      "0.0\n"
     ]
    }
   ],
   "execution_count": 31
  }
 ],
 "metadata": {
  "kernelspec": {
   "display_name": "Python 3",
   "language": "python",
   "name": "python3"
  },
  "language_info": {
   "codemirror_mode": {
    "name": "ipython",
    "version": 2
   },
   "file_extension": ".py",
   "mimetype": "text/x-python",
   "name": "python",
   "nbconvert_exporter": "python",
   "pygments_lexer": "ipython2",
   "version": "2.7.6"
  }
 },
 "nbformat": 4,
 "nbformat_minor": 5
}
