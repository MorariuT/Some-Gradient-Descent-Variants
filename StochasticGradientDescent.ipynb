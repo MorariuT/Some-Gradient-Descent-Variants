{
 "cells": [
  {
   "cell_type": "code",
   "execution_count": null,
   "id": "initial_id",
   "metadata": {
    "collapsed": true
   },
   "outputs": [],
   "source": "import numpy as np"
  },
  {
   "metadata": {},
   "cell_type": "code",
   "outputs": [],
   "execution_count": null,
   "source": [
    "class LinearRegression:\n",
    "    def __init__(self, X, y, lr=0.001, benchmark=0.0001, batch_size=64):\n",
    "        self.X = X\n",
    "        self.y = y\n",
    "        self.lr = lr\n",
    "        self.benchmark = benchmark\n",
    "        \n",
    "        self.w = np.random.randn(self.X.shape[1])\n",
    "    \n",
    "    def predict(self, X):\n",
    "        return np.dot(X, self.w)\n",
    "    \n",
    "    def error(self, X, y):\n",
    "        return abs((self.predict(X) - y));\n",
    "    \n",
    "    def calc_grad(self, X, y):\n",
    "        return np.dot(X.T, (y - self.predict(X)))\n",
    "    \n",
    "    def update_weights(self, grad):\n",
    "        self.w -= self.lr * grad\n",
    "    \n",
    "    def train(self):\n",
    "        \n",
    "        \n",
    "        "
   ],
   "id": "5d4634d6e7420097"
  }
 ],
 "metadata": {
  "kernelspec": {
   "display_name": "Python 3",
   "language": "python",
   "name": "python3"
  },
  "language_info": {
   "codemirror_mode": {
    "name": "ipython",
    "version": 2
   },
   "file_extension": ".py",
   "mimetype": "text/x-python",
   "name": "python",
   "nbconvert_exporter": "python",
   "pygments_lexer": "ipython2",
   "version": "2.7.6"
  }
 },
 "nbformat": 4,
 "nbformat_minor": 5
}
